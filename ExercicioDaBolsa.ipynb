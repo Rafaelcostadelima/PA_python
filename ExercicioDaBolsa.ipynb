{
  "nbformat": 4,
  "nbformat_minor": 0,
  "metadata": {
    "colab": {
      "provenance": [],
      "authorship_tag": "ABX9TyNILDfzvn56A/o9IGnhyl4n",
      "include_colab_link": true
    },
    "kernelspec": {
      "name": "python3",
      "display_name": "Python 3"
    },
    "language_info": {
      "name": "python"
    }
  },
  "cells": [
    {
      "cell_type": "markdown",
      "metadata": {
        "id": "view-in-github",
        "colab_type": "text"
      },
      "source": [
        "<a href=\"https://colab.research.google.com/github/Rafaelcostadelima/PA_python/blob/main/ExercicioDaBolsa.ipynb\" target=\"_parent\"><img src=\"https://colab.research.google.com/assets/colab-badge.svg\" alt=\"Open In Colab\"/></a>"
      ]
    },
    {
      "cell_type": "code",
      "execution_count": 8,
      "metadata": {
        "colab": {
          "base_uri": "https://localhost:8080/"
        },
        "id": "oOV-ft25DktX",
        "outputId": "172d8ddb-2c50-4dc7-e229-dbd430acf235"
      },
      "outputs": [
        {
          "output_type": "stream",
          "name": "stdout",
          "text": [
            "Digite o dia do mês: 12\n",
            "Quarto crescente\n"
          ]
        }
      ],
      "source": [
        "#Exercício 1\n",
        "dia = int(input(\"Digite o dia do mês: \"))\n",
        "if (dia > 0 and dia < 32):\n",
        "  if (dia >= 1 and dia <= 7):\n",
        "    print(\"Lua nova\")\n",
        "  elif (dia >= 8 and dia <= 14):\n",
        "    print(\"Quarto crescente\")\n",
        "  elif (dia >= 15 and dia <= 21):\n",
        "    print(\"Lua cheia\")\n",
        "  elif (dia >= 22 and dia <= 29):\n",
        "    print(\"Quarto minguante\")\n",
        "  else:\n",
        "    print(\"Início do novo ciclo lunar\")\n",
        "else:\n",
        "  print(\"O dia do mês digitado é inváldo!\")"
      ]
    },
    {
      "cell_type": "code",
      "source": [
        "#Exercício 2\n",
        "energia = int(input(\"Digite o valor da sua energia: \"))\n",
        "if (energia > 0 and energia <= 100):\n",
        "  classe = int(input(\"Digite a sua classe: \\n1 para Mago \\n2 para Guerreiro \\n3 para Arqueiro: \"))\n",
        "  if classe == 1:\n",
        "    energia = energia * 1.5\n",
        "    if energia >= 60:\n",
        "      print(\"Você está pronto para a batalha, Nobre Mago!\")\n",
        "    else:\n",
        "      print(\"A sua pontuação de enegia não foi suficiente para ser um Mago.\")\n",
        "  elif classe == 2:\n",
        "    energia = energia * 2\n",
        "    if energia >= 40:\n",
        "      print(\"Você está pronto para a batalha, Nobre Guerreiro!\")\n",
        "    else:\n",
        "      print(\"A sua pontuação de enegia não foi suficiente para ser um Guerreiro.\")\n",
        "  elif classe == 3:\n",
        "    energia = energia * 1.2\n",
        "    if energia >= 50:\n",
        "      print(\"Você está pronto para a batalha, Nobre Arqueiro!\")\n",
        "    else:\n",
        "      print(\"A sua pontuação de enegia não foi suficiente para ser um arqueiro.\")\n",
        "  else:\n",
        "    print(\"A classe desejada não é possível.\")\n",
        "else:\n",
        "  print(\"A quantidade de energia é inválida! \\nA quantidade de energia deve estar contida entre 1 e 100.\")"
      ],
      "metadata": {
        "colab": {
          "base_uri": "https://localhost:8080/"
        },
        "id": "SFDcfEnDFDZe",
        "outputId": "ff966c06-d455-46e8-847a-1414eef189be"
      },
      "execution_count": 27,
      "outputs": [
        {
          "output_type": "stream",
          "name": "stdout",
          "text": [
            "Digite o valor da sua energia: 0\n",
            "A quantidade de energia é inválida! \n",
            "A quantidade de energia deve estar contida entre 1 e 100.\n"
          ]
        }
      ]
    },
    {
      "cell_type": "code",
      "source": [
        "#Final Boss of condicional\n",
        "renda = float(input(\"Digite a renda familiar mensal: R$\"))\n",
        "if renda <= 0:\n",
        "  print(\"Renda inválida\")\n",
        "elif renda > 5000:\n",
        "  print(\"Não participa da bolsa. Só participam candidatos com renda menor que de R$5.000,00\")\n",
        "else:\n",
        "  escola = int(input(\"Qual é o tipo da sua escola? \\nDigite 1 para pública \\nE 2 para escola particular\\n\"))\n",
        "  if escola == 1:\n",
        "    print(\"Digite as últimas notas dessas matérias\")\n",
        "    mat = float(input(\"Matemática: \"))\n",
        "    if mat >= 0 and mat <= 10:\n",
        "      port = float(input(\"Português: \"))\n",
        "      if port >= 0 and port <= 10:\n",
        "        conhecimentos = float(input(\"Conhecimentos gerais: \"))\n",
        "        if conhecimentos >= 0 and conhecimentos <=10:\n",
        "          media = (mat + port + conhecimentos)/3\n",
        "          if media >= 8:\n",
        "            media = media + (media * 0.2)\n",
        "            print(f\"A média subiu para {media:.2f}\")\n",
        "            if renda < 3000:\n",
        "              mediafinal = media + (media * 0.15)\n",
        "              print(f\"Como a Renda Familiar é de menos de R$3000,00, a média subiu para {mediafinal:.2f}\")\n",
        "          elif media >= 6 and media < 8:\n",
        "            media = media + (media * 0.1)\n",
        "            print(f\"A média subiu para {media:.2f}\")\n",
        "            if renda < 3000:\n",
        "              mediafinal = media + (media * 0.05)\n",
        "              print(f\"Como a Renda Familiar é de menos de R$3000,00, a média subiu para {mediafinal:.2f}\")\n",
        "          elif media < 6:\n",
        "            print(\"Não concorre à bolsa por nota baixa\")\n",
        "        else:\n",
        "          print(\"Nota inválida\")\n",
        "      else:\n",
        "        print(\"Nota inválida\")\n",
        "    else:\n",
        "      print(\"Nota inválida\")\n",
        "  elif escola == 2:\n",
        "    print(\"Digite as últimas notas dessas matérias\")\n",
        "    mat = float(input(\"Matemática: \"))\n",
        "    if mat >= 0 and mat <= 10:\n",
        "      port = float(input(\"Português: \"))\n",
        "      if port >= 0 and port <= 10:\n",
        "        conhecimentos = float(input(\"Conhecimentos gerais: \"))\n",
        "        if conhecimentos >= 0 and conhecimentos <=10:\n",
        "          media = (mat + port + conhecimentos)/3\n",
        "          if media >= 8:\n",
        "            media = media + (media * 0.05)\n",
        "            print(f\"A média subiu para {media:.2f}\")\n",
        "            if renda < 3000:\n",
        "              mediafinal = media + (media * 0.15)\n",
        "              print(f\"Como a Renda Familiar é de menos de R$3000,00, a média subiu para {mediafinal:.2f}\")\n",
        "          elif media >= 6 and media < 8:\n",
        "            media = media + (media * 0.025)\n",
        "            print(f\"A média subiu para {media:.2f}\")\n",
        "            if renda < 3000:\n",
        "              mediafinal = media + (media * 0.02)\n",
        "              print(f\"Como a Renda Familiar é de menos de R$3000,00, a média subiu para {mediafinal:.2f}\")\n",
        "          elif media < 6:\n",
        "            print(\"Não concorre à bolsa por nota baixa\")\n",
        "        else:\n",
        "          print(\"Nota inválida\")\n",
        "      else:\n",
        "        print(\"Nota inválida\")\n",
        "    else:\n",
        "      print(\"Nota inválida\")\n",
        "  else:\n",
        "    print(\"Esse tipo de escola é inválida.\")"
      ],
      "metadata": {
        "id": "NWWZGsrWM9Kn"
      },
      "execution_count": null,
      "outputs": []
    }
  ]
}