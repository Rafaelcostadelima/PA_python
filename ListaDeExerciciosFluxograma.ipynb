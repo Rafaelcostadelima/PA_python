{
  "nbformat": 4,
  "nbformat_minor": 0,
  "metadata": {
    "colab": {
      "provenance": [],
      "authorship_tag": "ABX9TyPkZvXhXaFMZ1STRigZ2/1c",
      "include_colab_link": true
    },
    "kernelspec": {
      "name": "python3",
      "display_name": "Python 3"
    },
    "language_info": {
      "name": "python"
    }
  },
  "cells": [
    {
      "cell_type": "markdown",
      "metadata": {
        "id": "view-in-github",
        "colab_type": "text"
      },
      "source": [
        "<a href=\"https://colab.research.google.com/github/Rafaelcostadelima/PA_python/blob/main/ListaDeExerciciosFluxograma.ipynb\" target=\"_parent\"><img src=\"https://colab.research.google.com/assets/colab-badge.svg\" alt=\"Open In Colab\"/></a>"
      ]
    },
    {
      "cell_type": "markdown",
      "source": [
        "#Lista de Exercícios"
      ],
      "metadata": {
        "id": "NnTRyykGtZLa"
      }
    },
    {
      "cell_type": "markdown",
      "source": [
        "##1) Impostos sobre o carro"
      ],
      "metadata": {
        "id": "JYK5Qp4QteHD"
      }
    },
    {
      "cell_type": "code",
      "execution_count": 2,
      "metadata": {
        "colab": {
          "base_uri": "https://localhost:8080/"
        },
        "id": "swJIac-LnI4X",
        "outputId": "8617a360-7bd4-4e17-ab2d-b03cb023e334"
      },
      "outputs": [
        {
          "output_type": "stream",
          "name": "stdout",
          "text": [
            "Digite o valor do carro: 25000\n",
            "O valor do carro, depois dos impostos, é de: 46400.00\n"
          ]
        }
      ],
      "source": [
        "#Entrada\n",
        "valor_carro = float(input(\"Digite o valor do carro: \"))\n",
        "\n",
        "#Processamento\n",
        "impostos = (valor_carro * 45/ 100) + valor_carro\n",
        "distribuicao = (impostos * 28 / 100) + impostos\n",
        "\n",
        "#Saída\n",
        "print(f\"O valor do carro, depois dos impostos, é de: {distribuicao:.2f}\")"
      ]
    },
    {
      "cell_type": "markdown",
      "source": [
        "##2) Conversão de tempo"
      ],
      "metadata": {
        "id": "U0aNhyUCu8q9"
      }
    },
    {
      "cell_type": "code",
      "source": [
        "#Entrada\n",
        "horas = int(input(\"Digite a quantidade de horas: \"))\n",
        "minutos = int(input(\"Digite a quantidade de minutos: \"))\n",
        "\n",
        "#Processamento\n",
        "tempo = horas + (minutos/60)\n",
        "\n",
        "#Saída\n",
        "print(f\"O tempo em horas é de: {tempo:.2f}\")"
      ],
      "metadata": {
        "colab": {
          "base_uri": "https://localhost:8080/"
        },
        "id": "9czehKGxvEQC",
        "outputId": "eccc67c1-7a1c-43d9-cf45-bb7af925c075"
      },
      "execution_count": 3,
      "outputs": [
        {
          "output_type": "stream",
          "name": "stdout",
          "text": [
            "Digite a quantidade de horas: 3\n",
            "Digite a quantidade de minutos: 40\n",
            "O tempo em horas é de: 3.67\n"
          ]
        }
      ]
    },
    {
      "cell_type": "markdown",
      "source": [
        "##3)Horas Extras"
      ],
      "metadata": {
        "id": "2E-vHTU606Gi"
      }
    },
    {
      "cell_type": "code",
      "source": [
        "#Entrada\n",
        "horas = int(input(\"Digite a quantidade de horas trabalhadas: \"))\n",
        "minutos = int(input(\"Digite a quantidade de minutos: \"))\n",
        "valor_hora = float(input(\"Digite o valor da hora trabalhada: \"))\n",
        "\n",
        "#Processamento\n",
        "tempo = horas + (minutos/60)\n",
        "valor = (valor_hora * tempo * 70 / 100) + valor_hora * tempo\n",
        "\n",
        "#Saída\n",
        "print(f\"O valor das horas extras é de: R${valor:.2f}\")"
      ],
      "metadata": {
        "colab": {
          "base_uri": "https://localhost:8080/"
        },
        "id": "TZtr0UdV1FYR",
        "outputId": "4355ce84-5416-46a5-e8b1-dc3e70b3f387"
      },
      "execution_count": 8,
      "outputs": [
        {
          "output_type": "stream",
          "name": "stdout",
          "text": [
            "Digite a quantidade de horas trabalhadas: 15\n",
            "Digite a quantidade de minutos: 45\n",
            "Digite o valor da hora trabalhada: 25\n",
            "O valor das horas extras é de: R$669.38\n"
          ]
        }
      ]
    }
  ]
}